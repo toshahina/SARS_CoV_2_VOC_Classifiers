{
 "cells": [
  {
   "cell_type": "code",
   "execution_count": 4,
   "id": "bfb9fbe7",
   "metadata": {
    "scrolled": true
   },
   "outputs": [
    {
     "name": "stdout",
     "output_type": "stream",
     "text": [
      "Enter path of test  dataset:  /home/shahina/Documents/ML/VOC/dataset3/test_data\n",
      "Found 59 images belonging to 1 classes.\n",
      " Enter path of SARS_CoV_2_VOC_Net.h5 model : /home/shahina/Documents/ML/VOC/dataset3/voc/SARS_CoV_2_VOC_Net.h5\n",
      "59/59 [==============================] - 5s 75ms/step\n",
      "['Class2', 'Class2', 'Class2', 'Class2', 'Class2', 'Class2', 'Class2', 'Class2', 'Class2', 'Class2', 'Class2', 'Class2', 'Class2', 'Class2', 'Class2', 'Class2', 'Class2', 'Class2', 'Class2', 'Class2', 'Class2', 'Class2', 'Class2', 'Class2', 'Class2', 'Class3', 'Class3', 'Class3', 'Class3', 'Class3', 'Class3', 'Class3', 'Class3', 'Class3', 'Class3', 'Class3', 'Class3', 'Class3', 'Class3', 'Class3', 'Class3', 'Class3', 'Class3', 'Class3', 'Class3', 'Class3', 'Class3', 'Class3', 'Class3', 'Class3', 'Class3', 'Class1', 'Class1', 'Class1', 'Class1', 'Class1', 'Class1', 'Class1', 'Class1']\n",
      "Prediction result is stored in result.csv in present working directory \n"
     ]
    }
   ],
   "source": [
    "#!/usr/bin/env python3\n",
    "# -*- coding: utf-8 -*-\n",
    "\"\"\"\n",
    "Created on Thu Apr  7 15:15:25 2022\n",
    "\n",
    "@author: shahina\n",
    "\"\"\"\n",
    "import numpy as np\n",
    "from tensorflow.keras.preprocessing.image import ImageDataGenerator\n",
    "import pandas as pd\n",
    " \n",
    "test_datagen = ImageDataGenerator()\n",
    "test_dir = input(\"Enter path of test  dataset:  \")#/home/shahina/Documents/ML/VOC/dataset3/test\n",
    "test_set = test_datagen.flow_from_directory(test_dir,\n",
    "                                            target_size = (224,224),\n",
    "                                            batch_size = 1,\n",
    "                                            shuffle=False)\n",
    "test_samples = len(test_set)\n",
    "\n",
    "\n",
    "# Loading model and predict.\n",
    "from tensorflow.keras.models import load_model\n",
    "model_path = input(\" Enter path of SARS_CoV_2_VOC_Net.h5 model : \")#/home/shahina/Documents/ML/VOC/dataset3/voc/SARS_CoV_2_VOC_Net.h5\n",
    "model=load_model(model_path)\n",
    "pred=model.predict(test_set,steps=test_samples,verbose=1)\n",
    "y_pred=np.argmax(pred,axis=1)\n",
    "\n",
    "labels = ['Class1', 'Class2', 'Class3', 'Class4','class5']\n",
    "\n",
    "predictions = [labels[k] for k in y_pred]\n",
    "print(predictions)\n",
    "\n",
    "filenames=test_set.filenames\n",
    "d ={\"Filename\":filenames,\n",
    "      \"Predictions\":predictions}\n",
    "df = pd.DataFrame(d) \n",
    "#result_path = input('Enter the result CSV file path: ')\n",
    "df.to_csv(\"result.csv\",index=False)\n",
    "print(\"Prediction result is stored in result.csv file in present working directory \" )"
   ]
  },
  {
   "cell_type": "code",
   "execution_count": null,
   "id": "ced7f504",
   "metadata": {},
   "outputs": [],
   "source": []
  }
 ],
 "metadata": {
  "kernelspec": {
   "display_name": "Python 3 (ipykernel)",
   "language": "python",
   "name": "python3"
  },
  "language_info": {
   "codemirror_mode": {
    "name": "ipython",
    "version": 3
   },
   "file_extension": ".py",
   "mimetype": "text/x-python",
   "name": "python",
   "nbconvert_exporter": "python",
   "pygments_lexer": "ipython3",
   "version": "3.9.5"
  }
 },
 "nbformat": 4,
 "nbformat_minor": 5
}
