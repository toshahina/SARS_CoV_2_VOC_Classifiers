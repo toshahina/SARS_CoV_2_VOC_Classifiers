{
 "cells": [
  {
   "cell_type": "code",
   "execution_count": null,
   "id": "dfc0e2fa",
   "metadata": {},
   "outputs": [],
   "source": [
    "import numpy as np\n",
    "import os\n",
    "import shutil\n",
    "import random\n",
    "\n",
    "\n",
    "path = input(\"Enter the path to fasta sequence files : \")\n",
    "foldername = input(\"Enter folder name to store selected number of fasta files : \")\n",
    "files = os.listdir(path)\n",
    "k = int(input(\"Enter number of sequences to move : \"))\n",
    "random_files = random.sample(files, k)\n",
    "i =0\n",
    "for x in random_files:\n",
    " shutil.move(path + \"/\" + x, foldername + \"/\" + x)\n",
    " i = i+1\n",
    "print(\"Number of files copied : \",i)"
   ]
  }
 ],
 "metadata": {
  "kernelspec": {
   "display_name": "Python 3 (ipykernel)",
   "language": "python",
   "name": "python3"
  },
  "language_info": {
   "codemirror_mode": {
    "name": "ipython",
    "version": 3
   },
   "file_extension": ".py",
   "mimetype": "text/x-python",
   "name": "python",
   "nbconvert_exporter": "python",
   "pygments_lexer": "ipython3",
   "version": "3.9.5"
  }
 },
 "nbformat": 4,
 "nbformat_minor": 5
}
