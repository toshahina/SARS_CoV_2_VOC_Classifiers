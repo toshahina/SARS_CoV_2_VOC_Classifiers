{
 "cells": [
  {
   "cell_type": "code",
   "execution_count": null,
   "id": "325b2e4e",
   "metadata": {},
   "outputs": [],
   "source": [
    "#!/usr/bin/python3\n",
    "#import matplotlib.pyplot as plt\n",
    "import sys\n",
    "import os\n",
    "filename = input(\"Enter fasta filename containing multiple sequences : \")\n",
    "path = input(\"Enter path of diectory name to store individual fasta files: \")\n",
    "newname = open(\"txt1.txt\",\"w\")\n",
    "with open(filename, 'r') as reader:\n",
    "  for line in reader.readlines():\n",
    "   line.rstrip()\n",
    "   if line.startswith(\">\"):\n",
    "    newname.close()\n",
    "    fname1 = line.split(\"|\")\n",
    "    fname2 = fname1[0].split(\">\")\n",
    "    fname3 = fname2[1]\n",
    "    fname4 = fname3.split(\"/\")\n",
    "    s = \"_\"\n",
    "    fname = s.join(fname4)\n",
    "    print(fname)\n",
    "    newname = open(path + \"/\" + fname + \".fasta\",\"w\")\n",
    "    newname.write(line)\n",
    "   else :\n",
    "    newname.write(line)\n",
    "  "
   ]
  }
 ],
 "metadata": {
  "kernelspec": {
   "display_name": "Python 3 (ipykernel)",
   "language": "python",
   "name": "python3"
  },
  "language_info": {
   "codemirror_mode": {
    "name": "ipython",
    "version": 3
   },
   "file_extension": ".py",
   "mimetype": "text/x-python",
   "name": "python",
   "nbconvert_exporter": "python",
   "pygments_lexer": "ipython3",
   "version": "3.9.5"
  }
 },
 "nbformat": 4,
 "nbformat_minor": 5
}
