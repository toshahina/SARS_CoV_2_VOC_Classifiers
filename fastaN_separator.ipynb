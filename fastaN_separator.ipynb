{
 "cells": [
  {
   "cell_type": "code",
   "execution_count": null,
   "id": "1c4de51e",
   "metadata": {},
   "outputs": [],
   "source": [
    "#!/usr/bin/python3\n",
    "import sys\n",
    "import os\n",
    "import shutil\n",
    "\n",
    "direct_name = input('Enter the fasta file directory name: ')\n",
    "foldername = input(\"Enter a folder name to store the N containing sequence_files:\")\n",
    "num_n = 0\n",
    "for filename in os.listdir(direct_name):\n",
    "\n",
    " fname = filename.split('.')[0]\n",
    " print(\"Drawing CGR of \" + fname)\n",
    "\n",
    " with open(direct_name + \"/\" + filename, 'r') as reader:\n",
    "  \n",
    "  for line in reader.readlines():\n",
    "   line.rstrip()\n",
    "   if line.startswith(\">\"):\n",
    "    print(fname)\n",
    "   else :\n",
    "    for s in line :\n",
    "     if s in [\"N\",\"n\"]:\n",
    "      num_n = num_n + 1\n",
    "      \n",
    "  print( \"Number of N's containing files : \",num_n)\n",
    "  if(num_n!=0):\n",
    "   shutil.move(direct_name + \"/\" + filename, foldername + \"/\" + filename)\n",
    "  num_n = 0"
   ]
  }
 ],
 "metadata": {
  "kernelspec": {
   "display_name": "Python 3 (ipykernel)",
   "language": "python",
   "name": "python3"
  },
  "language_info": {
   "codemirror_mode": {
    "name": "ipython",
    "version": 3
   },
   "file_extension": ".py",
   "mimetype": "text/x-python",
   "name": "python",
   "nbconvert_exporter": "python",
   "pygments_lexer": "ipython3",
   "version": "3.9.5"
  }
 },
 "nbformat": 4,
 "nbformat_minor": 5
}
