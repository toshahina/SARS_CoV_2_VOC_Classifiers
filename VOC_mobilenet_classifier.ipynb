{
 "cells": [
  {
   "cell_type": "code",
   "execution_count": 1,
   "id": "44a3db13",
   "metadata": {},
   "outputs": [
    {
     "name": "stdout",
     "output_type": "stream",
     "text": [
      "Enter path of test  dataset:  /home/shahina/Documents/ML/VOC/dataset3/test_data\n",
      "Found 59 images belonging to 1 classes.\n",
      " Enter path of MobileNet model : /home/shahina/Documents/ML/VOC/dataset3/voc/VOC_mobilenet.h5\n"
     ]
    },
    {
     "name": "stderr",
     "output_type": "stream",
     "text": [
      "2022-04-22 14:49:49.047462: I tensorflow/compiler/jit/xla_cpu_device.cc:41] Not creating XLA devices, tf_xla_enable_xla_devices not set\n",
      "2022-04-22 14:49:49.052936: I tensorflow/core/platform/cpu_feature_guard.cc:142] This TensorFlow binary is optimized with oneAPI Deep Neural Network Library (oneDNN) to use the following CPU instructions in performance-critical operations:  SSE4.1 SSE4.2 AVX AVX2 FMA\n",
      "To enable them in other operations, rebuild TensorFlow with the appropriate compiler flags.\n",
      "2022-04-22 14:49:49.078121: I tensorflow/core/common_runtime/process_util.cc:146] Creating new thread pool with default inter op setting: 2. Tune using inter_op_parallelism_threads for best performance.\n",
      "2022-04-22 14:49:50.354699: I tensorflow/compiler/mlir/mlir_graph_optimization_pass.cc:116] None of the MLIR optimization passes are enabled (registered 2)\n",
      "2022-04-22 14:49:50.404914: I tensorflow/core/platform/profile_utils/cpu_utils.cc:112] CPU Frequency: 3391925000 Hz\n"
     ]
    },
    {
     "name": "stdout",
     "output_type": "stream",
     "text": [
      "59/59 [==============================] - 5s 67ms/step\n",
      "['Class2', 'Class2', 'Class2', 'Class2', 'Class2', 'Class2', 'Class2', 'Class2', 'Class2', 'Class2', 'Class2', 'Class2', 'Class2', 'Class2', 'Class2', 'Class2', 'Class2', 'Class2', 'Class2', 'Class2', 'Class2', 'Class2', 'Class2', 'Class2', 'Class2', 'Class3', 'Class3', 'Class3', 'Class3', 'Class3', 'Class3', 'Class3', 'Class3', 'Class3', 'Class3', 'Class3', 'Class3', 'Class3', 'Class3', 'Class3', 'Class3', 'Class3', 'Class3', 'Class3', 'Class3', 'Class3', 'Class3', 'Class3', 'Class3', 'Class3', 'Class3', 'Class1', 'Class1', 'Class1', 'Class1', 'Class1', 'Class1', 'Class1', 'Class1']\n",
      "Prediction result is stored in result.csv file in present working directory \n"
     ]
    }
   ],
   "source": [
    "#!/usr/bin/env python3\n",
    "# -*- coding: utf-8 -*-\n",
    "\"\"\"\n",
    "Created on Thu Apr  7 15:15:25 2022\n",
    "\n",
    "@author: shahina\n",
    "\"\"\"\n",
    "import numpy as np\n",
    "from tensorflow.keras.applications.mobilenet_v2 import preprocess_input\n",
    "from tensorflow.keras.preprocessing.image import ImageDataGenerator\n",
    "import pandas as pd\n",
    " \n",
    "test_datagen = ImageDataGenerator(preprocessing_function = preprocess_input)\n",
    "\n",
    "test_dir = input(\"Enter path of test  dataset:  \")#/home/shahina/Documents/ML/VOC/dataset3/test\n",
    "test_set = test_datagen.flow_from_directory(test_dir,\n",
    "                                            target_size = (224,224),\n",
    "                                            batch_size = 1,\n",
    "                                            shuffle=False)\n",
    "test_samples = len(test_set)\n",
    "\n",
    "\n",
    "# Loading model and predict.\n",
    "from tensorflow.keras.models import load_model\n",
    "model_path = input(\" Enter path of MobileNet model : \")#/home/shahina/Documents/ML/VOC/dataset3/voc/VOC_mobilenet.h5\n",
    "model=load_model(model_path)\n",
    "pred=model.predict(test_set,steps=test_samples,verbose=1)\n",
    "y_pred=np.argmax(pred,axis=1)\n",
    "\n",
    "labels = ['Class1', 'Class2', 'Class3', 'Class4','class5']\n",
    "\n",
    "predictions = [labels[k] for k in y_pred]\n",
    "print(predictions)\n",
    "\n",
    "filenames=test_set.filenames\n",
    "d ={\"Filename\":filenames,\n",
    "      \"Predictions\":predictions}\n",
    "df = pd.DataFrame(d) \n",
    "df.to_csv(\"result.csv\",index=False)\n",
    "print(\"Prediction result is stored in result.csv file in present working directory \" )"
   ]
  },
  {
   "cell_type": "code",
   "execution_count": null,
   "id": "bb942f6e",
   "metadata": {},
   "outputs": [],
   "source": []
  }
 ],
 "metadata": {
  "kernelspec": {
   "display_name": "Python 3 (ipykernel)",
   "language": "python",
   "name": "python3"
  },
  "language_info": {
   "codemirror_mode": {
    "name": "ipython",
    "version": 3
   },
   "file_extension": ".py",
   "mimetype": "text/x-python",
   "name": "python",
   "nbconvert_exporter": "python",
   "pygments_lexer": "ipython3",
   "version": "3.9.5"
  }
 },
 "nbformat": 4,
 "nbformat_minor": 5
}
