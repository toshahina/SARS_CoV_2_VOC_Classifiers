{
 "cells": [
  {
   "cell_type": "code",
   "execution_count": null,
   "id": "377c0d14",
   "metadata": {},
   "outputs": [],
   "source": [
    "#!/usr/bin/env python3\n",
    "# -*- coding: utf-8 -*-\n",
    "\"\"\"\n",
    "Created on Thu Apr  7 15:15:25 2022\n",
    "\n",
    "@author: shahina\n",
    "\"\"\"\n",
    "from tensorflow.keras.applications.inception_resnet_v2 import preprocess_input\n",
    "from tensorflow.keras.preprocessing.image import ImageDataGenerator\n",
    "import pandas as pd\n",
    "import numpy as np \n",
    "test_datagen = ImageDataGenerator(preprocessing_function = preprocess_input)\n",
    "\n",
    "test_dir = input(\"Enter path of test  dataset:  \")#/home/shahina/Documents/ML/VOC/dataset3/test\n",
    "test_set = test_datagen.flow_from_directory(test_dir,\n",
    "                                            target_size = (224,224),\n",
    "                                            batch_size = 1,\n",
    "                                            shuffle=False)\n",
    "test_samples = len(test_set)\n",
    "\n",
    "\n",
    "# Loading model and predict.\n",
    "from tensorflow.keras.models import load_model\n",
    "model_path = input(\" Enter path of Inception_resnetv2 model : \")#/home/shahina/Documents/ML/VOC/dataset3/voc/VOC_inception_resnetv2.h5\n",
    "pred=model.predict(test_set,steps=test_samples,verbose=1)\n",
    "y_pred=np.argmax(pred,axis=1)\n",
    "\n",
    "labels = ['Class1', 'Class2', 'Class3', 'Class4','class5']\n",
    "\n",
    "predictions = [labels[k] for k in y_pred]\n",
    "print(predictions)\n",
    "\n",
    "filenames=test_set.filenames\n",
    "d ={\"Filename\":filenames,\n",
    "      \"Predictions\":predictions}\n",
    "df = pd.DataFrame(d) \n",
    "rdf.to_csv(\"result.csv\",index=False)\n",
    "print(\"Prediction result is stored in result.csv file in present working directory \" )"
   ]
  }
 ],
 "metadata": {
  "kernelspec": {
   "display_name": "Python 3 (ipykernel)",
   "language": "python",
   "name": "python3"
  },
  "language_info": {
   "codemirror_mode": {
    "name": "ipython",
    "version": 3
   },
   "file_extension": ".py",
   "mimetype": "text/x-python",
   "name": "python",
   "nbconvert_exporter": "python",
   "pygments_lexer": "ipython3",
   "version": "3.9.5"
  }
 },
 "nbformat": 4,
 "nbformat_minor": 5
}
